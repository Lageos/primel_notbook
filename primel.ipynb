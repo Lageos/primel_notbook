{
 "cells": [
  {
   "cell_type": "code",
   "execution_count": null,
   "metadata": {},
   "outputs": [],
   "source": [
    "import math\n",
    "import numpy as np"
   ]
  },
  {
   "cell_type": "markdown",
   "metadata": {},
   "source": [
    "https://converged.yt/primel/ "
   ]
  },
  {
   "cell_type": "code",
   "execution_count": null,
   "metadata": {},
   "outputs": [],
   "source": [
    "max_num = 99999\n",
    " \n",
    "def get_primes():\n",
    "    primes = []\n",
    "    for num in range(3,max_num,2):\n",
    "        if all(num%i!=0 for i in range(3,int(math.sqrt(num))+1, 2)):\n",
    "            primes.append(num)\n",
    "    return primes"
   ]
  },
  {
   "cell_type": "code",
   "execution_count": null,
   "metadata": {},
   "outputs": [],
   "source": [
    "primes = get_primes()\n",
    "\n",
    "filtered = list(filter(lambda primes: primes >= 9999, primes)) # filter primes with <5 digits\n",
    "\n",
    "primes = filtered"
   ]
  },
  {
   "cell_type": "code",
   "execution_count": null,
   "metadata": {},
   "outputs": [],
   "source": [
    "## best primes for initial guess (5 different digits)\n",
    "start_primes = []\n",
    "for prime in primes:\n",
    "    digit_list = [int(x) for x in str(prime)] # creat list of int\n",
    "    #print(len(list(dict.fromkeys(digit_list))))\n",
    "    if len(list(dict.fromkeys(digit_list))) == 5: # only for 5 different digits append\n",
    "        start_primes.append(prime)\n",
    "print(start_primes)  \n",
    "        "
   ]
  },
  {
   "cell_type": "code",
   "execution_count": null,
   "metadata": {},
   "outputs": [],
   "source": [
    "results = [np.NaN, np.NaN, np.NaN, 3, np.NaN] # insert np.NaN for not correct digits, and correct digits in the list\n",
    "incl_numbers = [6] # put yellow marked digits, and digits you havent tried yet\n",
    "\n",
    "\n",
    "temp_primes = []\n",
    "\n",
    "for i, result in enumerate(results):\n",
    "    if result is not np.NaN:\n",
    "        if not temp_primes:\n",
    "            for prime in primes:\n",
    "                if int(str(prime)[i]) is result:\n",
    "                    temp_primes.append(prime)\n",
    "        else:\n",
    "            new_primes = []\n",
    "            for prime in temp_primes:\n",
    "                if int(str(prime)[i]) is result:\n",
    "                    new_primes.append(prime)\n",
    "            temp_primes = new_primes\n",
    "\n",
    "for incl_number in incl_numbers:\n",
    "    new_primes = []\n",
    "    for prime in temp_primes:\n",
    "        for digit in str(prime):\n",
    "            if int(digit) == incl_number:\n",
    "                new_primes.append(prime)\n",
    "        temp_primes = new_primes\n",
    "        \n",
    "temp_primes = list(dict.fromkeys(temp_primes))            \n",
    "print(temp_primes) # prints possilbe guesses, use one which includes digits you havent tried yet\n"
   ]
  },
  {
   "cell_type": "code",
   "execution_count": null,
   "metadata": {},
   "outputs": [],
   "source": [
    "# Repeat:\n",
    "results = [np.NaN, np.NaN, np.NaN, np.NaN, np.NaN] # insert np.NaN for not correct digits, and correct digits in the\n",
    "incl_numbers = []\n",
    "\n",
    "\n",
    "temp_primes = []\n",
    "\n",
    "for i, result in enumerate(results):\n",
    "    if result is not np.NaN:\n",
    "        if not temp_primes:\n",
    "            for prime in primes:\n",
    "                if int(str(prime)[i]) is result:\n",
    "                    temp_primes.append(prime)\n",
    "        else:\n",
    "            new_primes = []\n",
    "            for prime in temp_primes:\n",
    "                if int(str(prime)[i]) is result:\n",
    "                    new_primes.append(prime)\n",
    "            temp_primes = new_primes\n",
    "\n",
    "for incl_number in incl_numbers:\n",
    "    new_primes = []\n",
    "    for prime in temp_primes:\n",
    "        for digit in str(prime):\n",
    "            if int(digit) == incl_number:\n",
    "                new_primes.append(prime)\n",
    "        temp_primes = new_primes\n",
    "        \n",
    "temp_primes = list(dict.fromkeys(temp_primes)) # drop duplicates           \n",
    "print(temp_primes)"
   ]
  },
  {
   "cell_type": "code",
   "execution_count": null,
   "metadata": {},
   "outputs": [],
   "source": []
  }
 ],
 "metadata": {
  "kernelspec": {
   "display_name": "Python 3",
   "language": "python",
   "name": "python3"
  },
  "language_info": {
   "codemirror_mode": {
    "name": "ipython",
    "version": 3
   },
   "file_extension": ".py",
   "mimetype": "text/x-python",
   "name": "python",
   "nbconvert_exporter": "python",
   "pygments_lexer": "ipython3",
   "version": "3.8.5"
  }
 },
 "nbformat": 4,
 "nbformat_minor": 4
}
