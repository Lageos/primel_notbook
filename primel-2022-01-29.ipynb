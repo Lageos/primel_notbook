{
 "cells": [
  {
   "cell_type": "code",
   "execution_count": 1,
   "metadata": {},
   "outputs": [],
   "source": [
    "import math\n",
    "import numpy as np"
   ]
  },
  {
   "cell_type": "markdown",
   "metadata": {},
   "source": [
    "https://converged.yt/primel/ "
   ]
  },
  {
   "cell_type": "code",
   "execution_count": 2,
   "metadata": {},
   "outputs": [],
   "source": [
    "max_num = 99999\n",
    " \n",
    "def get_primes():\n",
    "    primes = []\n",
    "    for num in range(3,max_num,2):\n",
    "        if all(num%i!=0 for i in range(3,int(math.sqrt(num))+1, 2)):\n",
    "            primes.append(num)\n",
    "    return primes"
   ]
  },
  {
   "cell_type": "code",
   "execution_count": 3,
   "metadata": {},
   "outputs": [],
   "source": [
    "primes = get_primes()\n",
    "\n",
    "filtered = list(filter(lambda primes: primes >= 9999, primes)) # filter primes with <5 digits\n",
    "\n",
    "primes = filtered"
   ]
  },
  {
   "cell_type": "code",
   "execution_count": 4,
   "metadata": {},
   "outputs": [
    {
     "name": "stdout",
     "output_type": "stream",
     "text": [
      "[98621, 98627, 98641, 98713, 98731]\n"
     ]
    }
   ],
   "source": [
    "## best primes for initial guess (5 different digits)\n",
    "start_primes = []\n",
    "for prime in primes:\n",
    "    digit_list = [int(x) for x in str(prime)] # creat list of int\n",
    "    #print(len(list(dict.fromkeys(digit_list))))\n",
    "    if len(list(dict.fromkeys(digit_list))) == 5: # only for 5 different digits append\n",
    "        start_primes.append(prime)\n",
    "print(start_primes[-5:])  \n",
    "\n",
    "        "
   ]
  },
  {
   "cell_type": "code",
   "execution_count": 5,
   "metadata": {},
   "outputs": [
    {
     "name": "stdout",
     "output_type": "stream",
     "text": [
      "0 :  0.298098768384551\n",
      "1 :  0.6782255171589142\n",
      "2 :  0.4203037187612101\n",
      "3 :  0.6638765993064689\n",
      "4 :  0.40798756427119454\n",
      "5 :  0.4132488341504245\n",
      "6 :  0.4032045916537128\n",
      "7 :  0.6600502212124836\n",
      "8 :  0.39925863924429034\n",
      "9 :  0.6557455458567499\n",
      "[12379, 12739, 12973, 13297, 13729, 17239, 17293, 17923, 19237, 19273, 21379, 21397, 21739, 21937, 23197, 23719, 23917, 23971, 29137, 29173, 31729, 32719, 32917, 32971, 39217, 71293, 71329, 72139, 72931, 73291, 79231, 91237, 92173, 92317, 97213, 97231]\n"
     ]
    }
   ],
   "source": [
    "digit_count = np.zeros(10)\n",
    "\n",
    "for prime in primes:\n",
    "    digit_list = [int(x) for x in str(prime)] # creat list of int\n",
    "    for digit in digit_list:\n",
    "        digit_count[digit] = digit_count[digit] + 1\n",
    "for i, digit in enumerate(digit_count):       \n",
    "    print(i, \": \", digit_count[i] / len(primes))\n",
    "    \n",
    "# best digits to include for start guess: 1, 3, 7, 9\n",
    "\n",
    "incl_numbers = [1, 3, 7, 9, 2]\n",
    "\n",
    "temp_primes = primes\n",
    "for incl_number in incl_numbers:\n",
    "    best_start_primes = []\n",
    "    for prime in temp_primes:\n",
    "        for digit in str(prime):\n",
    "            if int(digit) == incl_number:\n",
    "                best_start_primes.append(prime)\n",
    "    temp_primes = best_start_primes\n",
    "\n",
    "best_start_primes = temp_primes\n",
    "best_start_primes = list(dict.fromkeys(best_start_primes)) \n",
    "\n",
    "print(best_start_primes)"
   ]
  },
  {
   "cell_type": "code",
   "execution_count": 6,
   "metadata": {},
   "outputs": [
    {
     "name": "stdout",
     "output_type": "stream",
     "text": [
      "[10079, 10597, 10709, 10789, 10799, 10957, 10979, 10987, 11197, 11497, 11579, 11597, 11719, 11779, 11789, 11897, 11971, 11987, 14197, 14479, 14759, 14779, 14797, 14879, 14897, 14947, 14957, 15497, 15679, 15749, 15791, 15797, 15907, 15971, 16097, 16759, 16879, 16979, 16987, 17099, 17159, 17189, 17191, 17419, 17449, 17489, 17491, 17497, 17509, 17519, 17569, 17579, 17597, 17599, 17609, 17659, 17669, 17749, 17789, 17791, 17891, 17909, 17911, 17957, 17959, 17971, 17977, 17981, 17987, 17989, 18097, 18679, 18719, 18749, 18797, 18917, 18947, 18979, 19079, 19087, 19157, 19417, 19447, 19457, 19471, 19477, 19507, 19571, 19577, 19597, 19687, 19697, 19709, 19717, 19751, 19759, 19777, 19867, 19979, 19997, 41179, 41479, 41579, 41597, 41719, 41759, 41879, 41897, 41947, 41957, 44179, 44917, 44971, 45179, 45197, 45971, 47119, 47149, 47189, 47419, 47491, 47591, 47791, 47819, 47911, 47917, 47951, 47981, 48179, 48197, 49117, 49157, 49171, 49177, 49417, 49711, 49741, 49871, 50971, 51197, 51479, 51679, 51719, 51749, 51769, 51797, 51907, 51971, 51977, 54917, 56179, 56197, 57119, 57149, 57179, 57191, 57719, 57791, 57901, 57917, 57991, 59107, 59167, 59197, 59417, 59471, 59617, 59671, 59771, 59791, 59971, 60719, 60917, 61879, 61967, 61979, 61987, 65179, 65719, 66179, 66791, 67169, 67189, 67619, 67819, 67891, 67901, 67961, 68791, 68917, 69197, 69761, 70019, 70199, 70619, 70891, 70901, 70919, 70951, 70981, 70991, 71059, 71069, 71089, 71119, 71191, 71419, 71479, 71549, 71569, 71597, 71699, 71719, 71789, 71809, 71849, 71879, 71899, 71909, 71917, 71941, 71947, 71971, 71987, 71999, 74149, 74159, 74189, 74197, 74419, 74719, 74891, 74941, 75109, 75149, 75169, 75619, 75941, 75991, 76091, 76159, 76519, 76819, 76919, 76961, 76991, 77191, 77419, 77491, 77591, 77719, 77951, 78179, 78191, 78691, 78791, 78901, 78919, 78941, 79111, 79147, 79151, 79159, 79181, 79187, 79411, 79451, 79481, 79561, 79601, 79691, 79801, 79811, 79817, 79841, 79861, 79901, 80917, 81097, 81197, 81749, 81769, 81799, 81967, 81971, 84179, 84719, 86179, 86197, 86719, 87119, 87149, 87179, 87491, 87691, 87719, 87911, 87917, 87961, 87991, 89017, 89071, 89107, 89417, 89671, 89917, 90017, 90071, 90107, 90187, 90197, 90617, 90917, 90971, 91079, 91097, 91457, 91571, 91577, 91711, 91757, 91771, 91781, 91807, 91867, 91957, 91967, 91997, 94117, 94771, 94781, 95071, 95107, 95177, 95471, 95617, 95701, 95717, 95791, 95917, 95971, 96017, 96157, 96167, 96179, 96517, 96671, 97001, 97081, 97117, 97151, 97157, 97159, 97169, 97171, 97177, 97187, 97441, 97501, 97511, 97561, 97571, 97651, 97711, 97771, 97841, 97861, 97871, 97919, 97961, 98017, 98179, 98711, 98717, 99017, 99571, 99719, 99761, 99817, 99871, 99971]\n"
     ]
    }
   ],
   "source": [
    "# TRY:       71293  \n",
    "# YELLOW:    7, 1, 9\n",
    "# GREY:      2, 3\n",
    "\n",
    "\n",
    "results = [np.NaN, np.NaN, np.NaN, np.NaN, np.NaN] # insert np.NaN for not correct digits, and correct digits in the list\n",
    "incl_numbers = [7, 1, 9] # put yellow marked digits, and digits you havent tried yet\n",
    "excl_numbers = [2, 3] # put grey marked digits in here\n",
    "\n",
    "temp_primes = []\n",
    "\n",
    "for i, result in enumerate(results):\n",
    "    if result is not np.NaN:\n",
    "        if not temp_primes:\n",
    "            for prime in primes:\n",
    "                if int(str(prime)[i]) is result:\n",
    "                    temp_primes.append(prime)\n",
    "        else:\n",
    "            new_primes = []\n",
    "            for prime in temp_primes:\n",
    "                if int(str(prime)[i]) is result:\n",
    "                    new_primes.append(prime)\n",
    "            temp_primes = new_primes\n",
    "\n",
    "if all(result is np.NaN for result in results): temp_primes = primes            \n",
    "\n",
    "for incl_number in incl_numbers:\n",
    "    new_primes = []\n",
    "    for prime in temp_primes:\n",
    "        for digit in str(prime):\n",
    "            if int(digit) == incl_number:\n",
    "                new_primes.append(prime)\n",
    "        temp_primes = new_primes\n",
    "        \n",
    "for excl_number in excl_numbers:\n",
    "    new_primes = []\n",
    "    for prime in temp_primes:\n",
    "        append = True\n",
    "        for digit in str(prime):\n",
    "            if int(digit) == excl_number:\n",
    "                append = False \n",
    "        if append:    \n",
    "            new_primes.append(prime)\n",
    "        temp_primes = new_primes\n",
    "        \n",
    "temp_primes = list(dict.fromkeys(temp_primes))            \n",
    "print(temp_primes) # prints possilbe guesses, use one which includes digits you havent tried yet"
   ]
  },
  {
   "cell_type": "code",
   "execution_count": 7,
   "metadata": {},
   "outputs": [
    {
     "name": "stdout",
     "output_type": "stream",
     "text": [
      "[10079, 10979, 11779, 11971, 14479, 14779, 14879, 17971, 17977, 18979, 19079, 19471, 19477, 19777, 19979, 41179, 41479, 41879, 44179, 44971, 48179, 49171, 49177, 49871, 71479, 71879, 71971, 78179, 81971, 84179, 87179, 89071, 90071, 90971, 91079, 91771, 94771, 97171, 97177, 97771, 97871, 98179, 99871, 99971]\n"
     ]
    }
   ],
   "source": [
    "# TRY:       59671  \n",
    "# YELLOW:    7, 1, 9\n",
    "# GREY:      2, 3, 5, 6\n",
    "\n",
    "\n",
    "results = [np.NaN, np.NaN, np.NaN, 7, np.NaN] # insert np.NaN for not correct digits, and correct digits in the list\n",
    "incl_numbers = [7, 1, 9] # put yellow marked digits, and digits you havent tried yet\n",
    "excl_numbers = [2, 3, 5, 6] # put grey marked digits in here\n",
    "\n",
    "temp_primes = []\n",
    "\n",
    "for i, result in enumerate(results):\n",
    "    if result is not np.NaN:\n",
    "        if not temp_primes:\n",
    "            for prime in primes:\n",
    "                if int(str(prime)[i]) is result:\n",
    "                    temp_primes.append(prime)\n",
    "        else:\n",
    "            new_primes = []\n",
    "            for prime in temp_primes:\n",
    "                if int(str(prime)[i]) is result:\n",
    "                    new_primes.append(prime)\n",
    "            temp_primes = new_primes\n",
    "\n",
    "if all(result is np.NaN for result in results): temp_primes = primes            \n",
    "\n",
    "for incl_number in incl_numbers:\n",
    "    new_primes = []\n",
    "    for prime in temp_primes:\n",
    "        for digit in str(prime):\n",
    "            if int(digit) == incl_number:\n",
    "                new_primes.append(prime)\n",
    "        temp_primes = new_primes\n",
    "        \n",
    "for excl_number in excl_numbers:\n",
    "    new_primes = []\n",
    "    for prime in temp_primes:\n",
    "        append = True\n",
    "        for digit in str(prime):\n",
    "            if int(digit) == excl_number:\n",
    "                append = False \n",
    "        if append:    \n",
    "            new_primes.append(prime)\n",
    "        temp_primes = new_primes\n",
    "        \n",
    "temp_primes = list(dict.fromkeys(temp_primes))            \n",
    "print(temp_primes) # prints possilbe guesses, use one which includes digits you havent tried yet"
   ]
  },
  {
   "cell_type": "code",
   "execution_count": 8,
   "metadata": {},
   "outputs": [
    {
     "name": "stdout",
     "output_type": "stream",
     "text": [
      "[14479, 14779, 41179, 41479, 44179, 71479]\n"
     ]
    }
   ],
   "source": [
    "# TRY:       48179  \n",
    "# YELLOW:    7, 1, 9, 4\n",
    "# GREY:      2, 3, 5, 6, 8\n",
    "\n",
    "\n",
    "results = [np.NaN, np.NaN, np.NaN, 7, 9] # insert np.NaN for not correct digits, and correct digits in the list\n",
    "incl_numbers = [7, 1, 9, 4] # put yellow marked digits, and digits you havent tried yet\n",
    "excl_numbers = [2, 3, 5, 6, 8] # put grey marked digits in here\n",
    "\n",
    "temp_primes = []\n",
    "\n",
    "for i, result in enumerate(results):\n",
    "    if result is not np.NaN:\n",
    "        if not temp_primes:\n",
    "            for prime in primes:\n",
    "                if int(str(prime)[i]) is result:\n",
    "                    temp_primes.append(prime)\n",
    "        else:\n",
    "            new_primes = []\n",
    "            for prime in temp_primes:\n",
    "                if int(str(prime)[i]) is result:\n",
    "                    new_primes.append(prime)\n",
    "            temp_primes = new_primes\n",
    "\n",
    "if all(result is np.NaN for result in results): temp_primes = primes            \n",
    "\n",
    "for incl_number in incl_numbers:\n",
    "    new_primes = []\n",
    "    for prime in temp_primes:\n",
    "        for digit in str(prime):\n",
    "            if int(digit) == incl_number:\n",
    "                new_primes.append(prime)\n",
    "        temp_primes = new_primes\n",
    "        \n",
    "for excl_number in excl_numbers:\n",
    "    new_primes = []\n",
    "    for prime in temp_primes:\n",
    "        append = True\n",
    "        for digit in str(prime):\n",
    "            if int(digit) == excl_number:\n",
    "                append = False \n",
    "        if append:    \n",
    "            new_primes.append(prime)\n",
    "        temp_primes = new_primes\n",
    "        \n",
    "temp_primes = list(dict.fromkeys(temp_primes))            \n",
    "print(temp_primes) # prints possilbe guesses, use one which includes digits you havent tried yet"
   ]
  },
  {
   "cell_type": "markdown",
   "metadata": {},
   "source": [
    "[14479, 14779, 41179, 41479, 44179, 71479]\n",
    "     p,     p,    np,    np,    np,    np \n",
    "\n",
    "With exclusion principle: 14479 or 14779\n",
    "\n",
    "14779 correct!"
   ]
  },
  {
   "cell_type": "markdown",
   "metadata": {},
   "source": [
    "### ToDo\n",
    "* Get most frequent digits for initial guess --> Done\n",
    "* Don't use already tried digits --> Done (grey digits)\n",
    "* Don't repeat already used position for yellow"
   ]
  },
  {
   "cell_type": "code",
   "execution_count": null,
   "metadata": {},
   "outputs": [],
   "source": []
  }
 ],
 "metadata": {
  "kernelspec": {
   "display_name": "Python 3",
   "language": "python",
   "name": "python3"
  },
  "language_info": {
   "codemirror_mode": {
    "name": "ipython",
    "version": 3
   },
   "file_extension": ".py",
   "mimetype": "text/x-python",
   "name": "python",
   "nbconvert_exporter": "python",
   "pygments_lexer": "ipython3",
   "version": "3.8.5"
  }
 },
 "nbformat": 4,
 "nbformat_minor": 4
}
