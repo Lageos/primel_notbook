{
 "cells": [
  {
   "cell_type": "code",
   "execution_count": 2,
   "metadata": {},
   "outputs": [],
   "source": [
    "import math\n",
    "import numpy as np"
   ]
  },
  {
   "cell_type": "markdown",
   "metadata": {},
   "source": [
    "https://converged.yt/primel/ "
   ]
  },
  {
   "cell_type": "code",
   "execution_count": 1,
   "metadata": {},
   "outputs": [],
   "source": [
    "max_num = 99999\n",
    " \n",
    "def get_primes():\n",
    "    primes = []\n",
    "    for num in range(3,max_num,2):\n",
    "        if all(num%i!=0 for i in range(3,int(math.sqrt(num))+1, 2)):\n",
    "            primes.append(num)\n",
    "    return primes"
   ]
  },
  {
   "cell_type": "code",
   "execution_count": 3,
   "metadata": {},
   "outputs": [],
   "source": [
    "primes = get_primes()\n",
    "\n",
    "filtered = list(filter(lambda primes: primes >= 9999, primes)) # filter primes with <5 digits\n",
    "\n",
    "primes = filtered"
   ]
  },
  {
   "cell_type": "code",
   "execution_count": 4,
   "metadata": {},
   "outputs": [
    {
     "name": "stdout",
     "output_type": "stream",
     "text": [
      "[98621, 98627, 98641, 98713, 98731]\n"
     ]
    }
   ],
   "source": [
    "## best primes for initial guess (5 different digits)\n",
    "start_primes = []\n",
    "for prime in primes:\n",
    "    digit_list = [int(x) for x in str(prime)] # creat list of int\n",
    "    #print(len(list(dict.fromkeys(digit_list))))\n",
    "    if len(list(dict.fromkeys(digit_list))) == 5: # only for 5 different digits append\n",
    "        start_primes.append(prime)\n",
    "print(start_primes[-5:])  \n",
    "\n",
    "        "
   ]
  },
  {
   "cell_type": "code",
   "execution_count": 22,
   "metadata": {},
   "outputs": [
    {
     "name": "stdout",
     "output_type": "stream",
     "text": [
      "0 :  0.298098768384551\n",
      "1 :  0.6782255171589142\n",
      "2 :  0.4203037187612101\n",
      "3 :  0.6638765993064689\n",
      "4 :  0.40798756427119454\n",
      "5 :  0.4132488341504245\n",
      "6 :  0.4032045916537128\n",
      "7 :  0.6600502212124836\n",
      "8 :  0.39925863924429034\n",
      "9 :  0.6557455458567499\n",
      "[12379, 12739, 12973, 13297, 13729, 17239, 17293, 17923, 19237, 19273, 21379, 21397, 21739, 21937, 23197, 23719, 23917, 23971, 29137, 29173, 31729, 32719, 32917, 32971, 39217, 71293, 71329, 72139, 72931, 73291, 79231, 91237, 92173, 92317, 97213, 97231]\n"
     ]
    }
   ],
   "source": [
    "digit_count = np.zeros(10)\n",
    "\n",
    "for prime in primes:\n",
    "    digit_list = [int(x) for x in str(prime)] # creat list of int\n",
    "    for digit in digit_list:\n",
    "        digit_count[digit] = digit_count[digit] + 1\n",
    "for i, digit in enumerate(digit_count):       \n",
    "    print(i, \": \", digit_count[i] / len(primes))\n",
    "    \n",
    "# best digits to include for start guess: 1, 3, 7, 9\n",
    "\n",
    "incl_numbers = [1, 3, 7, 9, 2]\n",
    "\n",
    "temp_primes = primes\n",
    "for incl_number in incl_numbers:\n",
    "    best_start_primes = []\n",
    "    for prime in temp_primes:\n",
    "        for digit in str(prime):\n",
    "            if int(digit) == incl_number:\n",
    "                best_start_primes.append(prime)\n",
    "    temp_primes = best_start_primes\n",
    "\n",
    "best_start_primes = temp_primes\n",
    "best_start_primes = list(dict.fromkeys(best_start_primes)) \n",
    "\n",
    "print(best_start_primes)"
   ]
  },
  {
   "cell_type": "code",
   "execution_count": 24,
   "metadata": {},
   "outputs": [
    {
     "name": "stdout",
     "output_type": "stream",
     "text": [
      "[91243, 91253, 91283, 91423, 91823, 92143, 92153, 92311, 92381, 92413, 92431, 92831, 93241, 93251, 93281, 94321, 95213, 95231, 98123, 98213, 98321]\n"
     ]
    }
   ],
   "source": [
    "# TRY:       97231  \n",
    "# YELLOW:    2, 3, 1\n",
    "# GREY:      7\n",
    "\n",
    "\n",
    "results = [9, np.NaN, np.NaN, np.NaN, np.NaN] # insert np.NaN for not correct digits, and correct digits in the list\n",
    "incl_numbers = [2, 3, 1] # put yellow marked digits, and digits you havent tried yet\n",
    "excl_numbers = [7] # put grey marked digits in here\n",
    "\n",
    "temp_primes = []\n",
    "\n",
    "for i, result in enumerate(results):\n",
    "    if result is not np.NaN:\n",
    "        if not temp_primes:\n",
    "            for prime in primes:\n",
    "                if int(str(prime)[i]) is result:\n",
    "                    temp_primes.append(prime)\n",
    "        else:\n",
    "            new_primes = []\n",
    "            for prime in temp_primes:\n",
    "                if int(str(prime)[i]) is result:\n",
    "                    new_primes.append(prime)\n",
    "            temp_primes = new_primes\n",
    "\n",
    "if all(result is np.NaN for result in results): temp_primes = primes            \n",
    "\n",
    "for incl_number in incl_numbers:\n",
    "    new_primes = []\n",
    "    for prime in temp_primes:\n",
    "        for digit in str(prime):\n",
    "            if int(digit) == incl_number:\n",
    "                new_primes.append(prime)\n",
    "        temp_primes = new_primes\n",
    "        \n",
    "for excl_number in excl_numbers:\n",
    "    new_primes = []\n",
    "    for prime in temp_primes:\n",
    "        append = True\n",
    "        for digit in str(prime):\n",
    "            if int(digit) == excl_number:\n",
    "                append = False \n",
    "        if append:    \n",
    "            new_primes.append(prime)\n",
    "        temp_primes = new_primes\n",
    "        \n",
    "temp_primes = list(dict.fromkeys(temp_primes))            \n",
    "print(temp_primes) # prints possilbe guesses, use one which includes digits you havent tried yet"
   ]
  },
  {
   "cell_type": "code",
   "execution_count": 25,
   "metadata": {},
   "outputs": [
    {
     "name": "stdout",
     "output_type": "stream",
     "text": [
      "[91243, 91283, 91423, 91823, 92143, 92413, 98123, 98213]\n"
     ]
    }
   ],
   "source": [
    "# TRY:       95213  \n",
    "# YELLOW:    2, 1\n",
    "# GREY:      5\n",
    "\n",
    "\n",
    "results = [9, np.NaN, np.NaN, np.NaN, 3] # insert np.NaN for not correct digits, and correct digits in the list\n",
    "incl_numbers = [2, 3, 1] # put yellow marked digits, and digits you havent tried yet\n",
    "excl_numbers = [7, 5] # put grey marked digits in here\n",
    "\n",
    "temp_primes = []\n",
    "\n",
    "for i, result in enumerate(results):\n",
    "    if result is not np.NaN:\n",
    "        if not temp_primes:\n",
    "            for prime in primes:\n",
    "                if int(str(prime)[i]) is result:\n",
    "                    temp_primes.append(prime)\n",
    "        else:\n",
    "            new_primes = []\n",
    "            for prime in temp_primes:\n",
    "                if int(str(prime)[i]) is result:\n",
    "                    new_primes.append(prime)\n",
    "            temp_primes = new_primes\n",
    "\n",
    "if all(result is np.NaN for result in results): temp_primes = primes            \n",
    "\n",
    "for incl_number in incl_numbers:\n",
    "    new_primes = []\n",
    "    for prime in temp_primes:\n",
    "        for digit in str(prime):\n",
    "            if int(digit) == incl_number:\n",
    "                new_primes.append(prime)\n",
    "        temp_primes = new_primes\n",
    "        \n",
    "for excl_number in excl_numbers:\n",
    "    new_primes = []\n",
    "    for prime in temp_primes:\n",
    "        append = True\n",
    "        for digit in str(prime):\n",
    "            if int(digit) == excl_number:\n",
    "                append = False \n",
    "        if append:    \n",
    "            new_primes.append(prime)\n",
    "        temp_primes = new_primes\n",
    "        \n",
    "temp_primes = list(dict.fromkeys(temp_primes))            \n",
    "print(temp_primes) # prints possilbe guesses, use one which includes digits you havent tried yet"
   ]
  },
  {
   "cell_type": "code",
   "execution_count": 26,
   "metadata": {},
   "outputs": [
    {
     "name": "stdout",
     "output_type": "stream",
     "text": [
      "[91283, 91823, 98123, 98213]\n"
     ]
    }
   ],
   "source": [
    "# TRY:       91283  \n",
    "# YELLOW:    1, 2, 8\n",
    "# GREY:      \n",
    "\n",
    "\n",
    "results = [9, np.NaN, np.NaN, np.NaN, 3] # insert np.NaN for not correct digits, and correct digits in the list\n",
    "incl_numbers = [2, 3, 1, 8] # put yellow marked digits, and digits you havent tried yet\n",
    "excl_numbers = [7, 5] # put grey marked digits in here\n",
    "\n",
    "temp_primes = []\n",
    "\n",
    "for i, result in enumerate(results):\n",
    "    if result is not np.NaN:\n",
    "        if not temp_primes:\n",
    "            for prime in primes:\n",
    "                if int(str(prime)[i]) is result:\n",
    "                    temp_primes.append(prime)\n",
    "        else:\n",
    "            new_primes = []\n",
    "            for prime in temp_primes:\n",
    "                if int(str(prime)[i]) is result:\n",
    "                    new_primes.append(prime)\n",
    "            temp_primes = new_primes\n",
    "\n",
    "if all(result is np.NaN for result in results): temp_primes = primes            \n",
    "\n",
    "for incl_number in incl_numbers:\n",
    "    new_primes = []\n",
    "    for prime in temp_primes:\n",
    "        for digit in str(prime):\n",
    "            if int(digit) == incl_number:\n",
    "                new_primes.append(prime)\n",
    "        temp_primes = new_primes\n",
    "        \n",
    "for excl_number in excl_numbers:\n",
    "    new_primes = []\n",
    "    for prime in temp_primes:\n",
    "        append = True\n",
    "        for digit in str(prime):\n",
    "            if int(digit) == excl_number:\n",
    "                append = False \n",
    "        if append:    \n",
    "            new_primes.append(prime)\n",
    "        temp_primes = new_primes\n",
    "        \n",
    "temp_primes = list(dict.fromkeys(temp_primes))            \n",
    "print(temp_primes) # prints possilbe guesses, use one which includes digits you havent tried yet"
   ]
  },
  {
   "cell_type": "markdown",
   "metadata": {},
   "source": [
    "With exclusion principle: 98123"
   ]
  },
  {
   "cell_type": "markdown",
   "metadata": {},
   "source": [
    "### ToDo\n",
    "* Get most frequent digits for initial guess --> Done\n",
    "* Don't use already tried digits --> Done (grey digits)\n",
    "* Don't repeat already used position for yellow"
   ]
  },
  {
   "cell_type": "code",
   "execution_count": null,
   "metadata": {},
   "outputs": [],
   "source": []
  }
 ],
 "metadata": {
  "kernelspec": {
   "display_name": "Python 3",
   "language": "python",
   "name": "python3"
  },
  "language_info": {
   "codemirror_mode": {
    "name": "ipython",
    "version": 3
   },
   "file_extension": ".py",
   "mimetype": "text/x-python",
   "name": "python",
   "nbconvert_exporter": "python",
   "pygments_lexer": "ipython3",
   "version": "3.8.5"
  }
 },
 "nbformat": 4,
 "nbformat_minor": 4
}
